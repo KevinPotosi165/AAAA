{
 "cells": [
  {
   "cell_type": "markdown",
   "id": "fde1b599",
   "metadata": {},
   "source": [
    "# DATA SCIENCE TOOLS AND ECOSYSTEM"
   ]
  },
  {
   "cell_type": "markdown",
   "id": "f72ad0e3",
   "metadata": {},
   "source": [
    "This notebook summarizes data science tools and ecosystems.\n"
   ]
  },
  {
   "cell_type": "markdown",
   "id": "ed562e31",
   "metadata": {},
   "source": [
    "**Objetivos:**\n",
    "\n",
    "- Listar lenguajes populares para Ciencia de Datos\n",
    "\n",
    "- Identificar las librerías más comunes utilizadas en Ciencia de Datos\n",
    "\n",
    "- Entender las herramientas de código abierto para el desarrollo en Ciencia de Datos\n"
   ]
  },
  {
   "cell_type": "markdown",
   "id": "4ff0510e",
   "metadata": {},
   "source": [
    "Some of the popular languages used by data scientists are:"
   ]
  },
  {
   "cell_type": "code",
   "execution_count": 1,
   "id": "3354f265",
   "metadata": {},
   "outputs": [
    {
     "name": "stdout",
     "output_type": "stream",
     "text": [
      "['python', 'R', 'SQL']\n"
     ]
    }
   ],
   "source": [
    "L=[\"python\",\"R\",\"SQL\"]\n",
    "print(L)"
   ]
  },
  {
   "cell_type": "markdown",
   "id": "5f6513cc",
   "metadata": {},
   "source": [
    "Some of the most used libraries in Data Science are:"
   ]
  },
  {
   "cell_type": "code",
   "execution_count": 2,
   "id": "248e0487",
   "metadata": {},
   "outputs": [
    {
     "name": "stdout",
     "output_type": "stream",
     "text": [
      "['NumPy', 'Pandas', 'Matplotlib', 'Seaborn', 'Scikit-learn']\n"
     ]
    }
   ],
   "source": [
    "L=[\"NumPy\",\"Pandas\",\"Matplotlib\",\"Seaborn\",\"Scikit-learn\"]\n",
    "print(L)"
   ]
  },
  {
   "cell_type": "markdown",
   "id": "681ceb7e",
   "metadata": {},
   "source": [
    "Some Data Science Tools:"
   ]
  },
  {
   "cell_type": "code",
   "execution_count": 3,
   "id": "4aae8cc8",
   "metadata": {},
   "outputs": [
    {
     "name": "stdout",
     "output_type": "stream",
     "text": [
      "['Jupyter Notebook', 'Google Colab', 'PyCharm', 'VS Code', 'R studio', 'Apache Spark']\n"
     ]
    }
   ],
   "source": [
    "L=[\"Jupyter Notebook\",\"Google Colab\",\"PyCharm\",\"VS Code\",\"R studio\",\"Apache Spark\"]\n",
    "print(L)"
   ]
  },
  {
   "cell_type": "markdown",
   "id": "ec1a5854",
   "metadata": {},
   "source": [
    "### A continuación, se presentan algunos ejemplos de evaluación de expresiones aritméticas en Python"
   ]
  },
  {
   "cell_type": "code",
   "execution_count": 5,
   "id": "425676f7",
   "metadata": {},
   "outputs": [
    {
     "data": {
      "text/plain": [
       "17"
      ]
     },
     "execution_count": 5,
     "metadata": {},
     "output_type": "execute_result"
    }
   ],
   "source": [
    "(3*4)+5  # Esta es una expresión que multiplica 3 por 4 y luego suma 5. El resultado es 17."
   ]
  },
  {
   "cell_type": "code",
   "execution_count": 6,
   "id": "1e5819a9",
   "metadata": {},
   "outputs": [
    {
     "data": {
      "text/plain": [
       "3.3333333333333335"
      ]
     },
     "execution_count": 6,
     "metadata": {},
     "output_type": "execute_result"
    }
   ],
   "source": [
    "200/60  #Esta expresion convierte minutaos a horas "
   ]
  },
  {
   "cell_type": "markdown",
   "id": "6d116d10",
   "metadata": {},
   "source": [
    "## AUTOR: \n",
    "        Kevin Esteban Potosi Hoyos"
   ]
  }
 ],
 "metadata": {
  "kernelspec": {
   "display_name": "Python 3",
   "language": "python",
   "name": "python3"
  },
  "language_info": {
   "codemirror_mode": {
    "name": "ipython",
    "version": 3
   },
   "file_extension": ".py",
   "mimetype": "text/x-python",
   "name": "python",
   "nbconvert_exporter": "python",
   "pygments_lexer": "ipython3",
   "version": "3.12.4"
  }
 },
 "nbformat": 4,
 "nbformat_minor": 5
}
